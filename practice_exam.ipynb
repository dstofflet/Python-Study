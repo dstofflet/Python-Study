{
 "cells": [
  {
   "attachments": {},
   "cell_type": "markdown",
   "metadata": {},
   "source": [
    "# Create a (3,3) square with a nested loop"
   ]
  },
  {
   "cell_type": "code",
   "execution_count": 1,
   "metadata": {},
   "outputs": [
    {
     "name": "stdout",
     "output_type": "stream",
     "text": [
      "* * * \n",
      "* * * \n",
      "* * * \n"
     ]
    }
   ],
   "source": [
    "for i in range(3):\n",
    "    s = ''\n",
    "    for k in range(3):\n",
    "        s += '* '\n",
    "    print(s)"
   ]
  },
  {
   "attachments": {},
   "cell_type": "markdown",
   "metadata": {},
   "source": [
    "# Import NumPy"
   ]
  },
  {
   "cell_type": "code",
   "execution_count": 7,
   "metadata": {},
   "outputs": [
    {
     "name": "stdout",
     "output_type": "stream",
     "text": [
      "Requirement already satisfied: numpy in c:\\users\\david\\appdata\\local\\programs\\python\\python311\\lib\\site-packages (1.23.5)\n",
      "Note: you may need to restart the kernel to use updated packages.\n"
     ]
    },
    {
     "data": {
      "text/plain": [
       "'1.23.5'"
      ]
     },
     "execution_count": 7,
     "metadata": {},
     "output_type": "execute_result"
    }
   ],
   "source": [
    "%pip install numpy\n",
    "import numpy as np\n",
    "np.__version__"
   ]
  },
  {
   "attachments": {},
   "cell_type": "markdown",
   "metadata": {},
   "source": [
    "# Create an array with random integers between 0 and 10 with a size of 15"
   ]
  },
  {
   "cell_type": "code",
   "execution_count": 8,
   "metadata": {},
   "outputs": [
    {
     "data": {
      "text/plain": [
       "array([0, 7, 4, 1, 8, 1, 1, 9, 1, 8, 4, 8, 3, 6, 5])"
      ]
     },
     "execution_count": 8,
     "metadata": {},
     "output_type": "execute_result"
    }
   ],
   "source": [
    "np.random.randint(0, 10, 15)"
   ]
  },
  {
   "attachments": {},
   "cell_type": "markdown",
   "metadata": {},
   "source": [
    "# Create a (5,5) array with random floats"
   ]
  },
  {
   "cell_type": "code",
   "execution_count": 9,
   "metadata": {},
   "outputs": [
    {
     "data": {
      "text/plain": [
       "array([[0.24292786, 0.49703047, 0.08931463, 0.32134481, 0.17912948],\n",
       "       [0.37586849, 0.26713978, 0.80766209, 0.22528238, 0.39023395],\n",
       "       [0.05719325, 0.2736017 , 0.35322271, 0.57525492, 0.52223237],\n",
       "       [0.35000719, 0.98385224, 0.58510787, 0.07077754, 0.10533004],\n",
       "       [0.36719688, 0.12109803, 0.13606974, 0.97163807, 0.94785717]])"
      ]
     },
     "execution_count": 9,
     "metadata": {},
     "output_type": "execute_result"
    }
   ],
   "source": [
    "np.random.random((5,5))"
   ]
  },
  {
   "attachments": {},
   "cell_type": "markdown",
   "metadata": {},
   "source": [
    "# Find the length of this string"
   ]
  },
  {
   "cell_type": "code",
   "execution_count": 12,
   "metadata": {},
   "outputs": [],
   "source": [
    "a = 'Hello, World'"
   ]
  },
  {
   "cell_type": "code",
   "execution_count": 13,
   "metadata": {},
   "outputs": [
    {
     "data": {
      "text/plain": [
       "12"
      ]
     },
     "execution_count": 13,
     "metadata": {},
     "output_type": "execute_result"
    }
   ],
   "source": [
    "len(a)"
   ]
  },
  {
   "attachments": {},
   "cell_type": "markdown",
   "metadata": {},
   "source": [
    "# Take the variable 'a' and print only 'World', using subscripts"
   ]
  },
  {
   "cell_type": "code",
   "execution_count": 20,
   "metadata": {},
   "outputs": [
    {
     "data": {
      "text/plain": [
       "'World'"
      ]
     },
     "execution_count": 20,
     "metadata": {},
     "output_type": "execute_result"
    }
   ],
   "source": [
    "a[7:12]"
   ]
  },
  {
   "attachments": {},
   "cell_type": "markdown",
   "metadata": {},
   "source": [
    "# Change the string to lower case using python functions"
   ]
  },
  {
   "cell_type": "code",
   "execution_count": 23,
   "metadata": {},
   "outputs": [
    {
     "name": "stdout",
     "output_type": "stream",
     "text": [
      "hello, world\n"
     ]
    }
   ],
   "source": [
    "print(a.lower())"
   ]
  },
  {
   "attachments": {},
   "cell_type": "markdown",
   "metadata": {},
   "source": [
    "# Change the string to upper case using python functions"
   ]
  },
  {
   "cell_type": "code",
   "execution_count": 24,
   "metadata": {},
   "outputs": [
    {
     "name": "stdout",
     "output_type": "stream",
     "text": [
      "HELLO, WORLD\n"
     ]
    }
   ],
   "source": [
    "print(a.upper())"
   ]
  },
  {
   "attachments": {},
   "cell_type": "markdown",
   "metadata": {},
   "source": [
    "# Split the string using the split() function"
   ]
  },
  {
   "cell_type": "code",
   "execution_count": 29,
   "metadata": {},
   "outputs": [
    {
     "name": "stdout",
     "output_type": "stream",
     "text": [
      "['Hello', ' World']\n"
     ]
    },
    {
     "data": {
      "text/plain": [
       "100"
      ]
     },
     "execution_count": 29,
     "metadata": {},
     "output_type": "execute_result"
    }
   ],
   "source": [
    "print(a.split(','))"
   ]
  },
  {
   "attachments": {},
   "cell_type": "markdown",
   "metadata": {},
   "source": [
    "# Import Pandas"
   ]
  },
  {
   "cell_type": "code",
   "execution_count": 1,
   "metadata": {},
   "outputs": [
    {
     "name": "stdout",
     "output_type": "stream",
     "text": [
      "Requirement already satisfied: pandas in c:\\users\\david\\appdata\\local\\programs\\python\\python311\\lib\\site-packages (1.5.2)\n",
      "Requirement already satisfied: python-dateutil>=2.8.1 in c:\\users\\david\\appdata\\roaming\\python\\python311\\site-packages (from pandas) (2.8.2)\n",
      "Requirement already satisfied: pytz>=2020.1 in c:\\users\\david\\appdata\\local\\programs\\python\\python311\\lib\\site-packages (from pandas) (2022.6)\n",
      "Requirement already satisfied: numpy>=1.21.0 in c:\\users\\david\\appdata\\local\\programs\\python\\python311\\lib\\site-packages (from pandas) (1.23.5)\n",
      "Requirement already satisfied: six>=1.5 in c:\\users\\david\\appdata\\roaming\\python\\python311\\site-packages (from python-dateutil>=2.8.1->pandas) (1.16.0)\n",
      "Note: you may need to restart the kernel to use updated packages.\n"
     ]
    }
   ],
   "source": [
    "%pip install pandas\n",
    "import pandas as pd"
   ]
  },
  {
   "attachments": {},
   "cell_type": "markdown",
   "metadata": {},
   "source": [
    "# Read 'AllCountries.csv' file. Call it 'ac'"
   ]
  },
  {
   "cell_type": "code",
   "execution_count": 2,
   "metadata": {},
   "outputs": [],
   "source": [
    "ac = pd.read_csv('AllCountries.csv')"
   ]
  },
  {
   "attachments": {},
   "cell_type": "markdown",
   "metadata": {},
   "source": [
    "# Check to columns of ac"
   ]
  },
  {
   "cell_type": "code",
   "execution_count": 3,
   "metadata": {},
   "outputs": [
    {
     "data": {
      "text/plain": [
       "Index(['Country', 'LandArea', 'Population', 'Density', 'GDP', 'Rural', 'CO2',\n",
       "       'PumpPrice', 'Military', 'Health', 'ArmedForces', 'Internet', 'Cell',\n",
       "       'HIV', 'Hunger', 'Diabetes', 'BirthRate', 'DeathRate', 'ElderlyPop',\n",
       "       'LifeExpectancy', 'FemaleLabor', 'Unemployment', 'EnergyUse',\n",
       "       'Electricity', 'Developed'],\n",
       "      dtype='object')"
      ]
     },
     "execution_count": 3,
     "metadata": {},
     "output_type": "execute_result"
    }
   ],
   "source": [
    "ac.columns"
   ]
  },
  {
   "attachments": {},
   "cell_type": "markdown",
   "metadata": {},
   "source": [
    "# Check the first 10 rows of ac"
   ]
  },
  {
   "cell_type": "code",
   "execution_count": 4,
   "metadata": {},
   "outputs": [
    {
     "data": {
      "text/html": [
       "<div>\n",
       "<style scoped>\n",
       "    .dataframe tbody tr th:only-of-type {\n",
       "        vertical-align: middle;\n",
       "    }\n",
       "\n",
       "    .dataframe tbody tr th {\n",
       "        vertical-align: top;\n",
       "    }\n",
       "\n",
       "    .dataframe thead th {\n",
       "        text-align: right;\n",
       "    }\n",
       "</style>\n",
       "<table border=\"1\" class=\"dataframe\">\n",
       "  <thead>\n",
       "    <tr style=\"text-align: right;\">\n",
       "      <th></th>\n",
       "      <th>Country</th>\n",
       "      <th>LandArea</th>\n",
       "      <th>Population</th>\n",
       "      <th>Density</th>\n",
       "      <th>GDP</th>\n",
       "      <th>Rural</th>\n",
       "      <th>CO2</th>\n",
       "      <th>PumpPrice</th>\n",
       "      <th>Military</th>\n",
       "      <th>Health</th>\n",
       "      <th>...</th>\n",
       "      <th>Diabetes</th>\n",
       "      <th>BirthRate</th>\n",
       "      <th>DeathRate</th>\n",
       "      <th>ElderlyPop</th>\n",
       "      <th>LifeExpectancy</th>\n",
       "      <th>FemaleLabor</th>\n",
       "      <th>Unemployment</th>\n",
       "      <th>EnergyUse</th>\n",
       "      <th>Electricity</th>\n",
       "      <th>Developed</th>\n",
       "    </tr>\n",
       "  </thead>\n",
       "  <tbody>\n",
       "    <tr>\n",
       "      <th>0</th>\n",
       "      <td>Afghanistan</td>\n",
       "      <td>652.86</td>\n",
       "      <td>30.552</td>\n",
       "      <td>46.8</td>\n",
       "      <td>665.0</td>\n",
       "      <td>74.1</td>\n",
       "      <td>35.3</td>\n",
       "      <td>1.28</td>\n",
       "      <td>8.65</td>\n",
       "      <td>7.07</td>\n",
       "      <td>...</td>\n",
       "      <td>8.1</td>\n",
       "      <td>34.1</td>\n",
       "      <td>7.8</td>\n",
       "      <td>2.3</td>\n",
       "      <td>60.9</td>\n",
       "      <td>16.2</td>\n",
       "      <td>NaN</td>\n",
       "      <td>NaN</td>\n",
       "      <td>NaN</td>\n",
       "      <td>NaN</td>\n",
       "    </tr>\n",
       "    <tr>\n",
       "      <th>1</th>\n",
       "      <td>Albania</td>\n",
       "      <td>27.40</td>\n",
       "      <td>2.897</td>\n",
       "      <td>105.7</td>\n",
       "      <td>4460.0</td>\n",
       "      <td>44.6</td>\n",
       "      <td>12.8</td>\n",
       "      <td>1.81</td>\n",
       "      <td>NaN</td>\n",
       "      <td>9.85</td>\n",
       "      <td>...</td>\n",
       "      <td>2.6</td>\n",
       "      <td>12.9</td>\n",
       "      <td>6.9</td>\n",
       "      <td>10.7</td>\n",
       "      <td>77.5</td>\n",
       "      <td>51.7</td>\n",
       "      <td>13.4</td>\n",
       "      <td>748.0</td>\n",
       "      <td>2195.0</td>\n",
       "      <td>1.0</td>\n",
       "    </tr>\n",
       "    <tr>\n",
       "      <th>2</th>\n",
       "      <td>Algeria</td>\n",
       "      <td>2381.74</td>\n",
       "      <td>39.208</td>\n",
       "      <td>16.5</td>\n",
       "      <td>5361.0</td>\n",
       "      <td>30.5</td>\n",
       "      <td>24.6</td>\n",
       "      <td>0.29</td>\n",
       "      <td>NaN</td>\n",
       "      <td>9.43</td>\n",
       "      <td>...</td>\n",
       "      <td>7.3</td>\n",
       "      <td>24.3</td>\n",
       "      <td>5.9</td>\n",
       "      <td>4.6</td>\n",
       "      <td>71.0</td>\n",
       "      <td>16.2</td>\n",
       "      <td>11.0</td>\n",
       "      <td>1108.0</td>\n",
       "      <td>1091.0</td>\n",
       "      <td>1.0</td>\n",
       "    </tr>\n",
       "    <tr>\n",
       "      <th>3</th>\n",
       "      <td>American Samoa</td>\n",
       "      <td>0.20</td>\n",
       "      <td>0.055</td>\n",
       "      <td>275.0</td>\n",
       "      <td>NaN</td>\n",
       "      <td>12.7</td>\n",
       "      <td>NaN</td>\n",
       "      <td>NaN</td>\n",
       "      <td>NaN</td>\n",
       "      <td>NaN</td>\n",
       "      <td>...</td>\n",
       "      <td>NaN</td>\n",
       "      <td>NaN</td>\n",
       "      <td>NaN</td>\n",
       "      <td>NaN</td>\n",
       "      <td>NaN</td>\n",
       "      <td>NaN</td>\n",
       "      <td>NaN</td>\n",
       "      <td>NaN</td>\n",
       "      <td>NaN</td>\n",
       "      <td>NaN</td>\n",
       "    </tr>\n",
       "    <tr>\n",
       "      <th>4</th>\n",
       "      <td>Andorra</td>\n",
       "      <td>0.47</td>\n",
       "      <td>0.079</td>\n",
       "      <td>168.1</td>\n",
       "      <td>NaN</td>\n",
       "      <td>13.8</td>\n",
       "      <td>9.5</td>\n",
       "      <td>1.67</td>\n",
       "      <td>NaN</td>\n",
       "      <td>23.14</td>\n",
       "      <td>...</td>\n",
       "      <td>5.4</td>\n",
       "      <td>NaN</td>\n",
       "      <td>NaN</td>\n",
       "      <td>NaN</td>\n",
       "      <td>NaN</td>\n",
       "      <td>NaN</td>\n",
       "      <td>NaN</td>\n",
       "      <td>NaN</td>\n",
       "      <td>NaN</td>\n",
       "      <td>NaN</td>\n",
       "    </tr>\n",
       "    <tr>\n",
       "      <th>5</th>\n",
       "      <td>Angola</td>\n",
       "      <td>1246.70</td>\n",
       "      <td>21.472</td>\n",
       "      <td>17.2</td>\n",
       "      <td>5783.0</td>\n",
       "      <td>57.5</td>\n",
       "      <td>44.8</td>\n",
       "      <td>0.63</td>\n",
       "      <td>13.81</td>\n",
       "      <td>7.74</td>\n",
       "      <td>...</td>\n",
       "      <td>2.6</td>\n",
       "      <td>44.1</td>\n",
       "      <td>13.9</td>\n",
       "      <td>2.4</td>\n",
       "      <td>51.9</td>\n",
       "      <td>64.5</td>\n",
       "      <td>NaN</td>\n",
       "      <td>673.0</td>\n",
       "      <td>248.0</td>\n",
       "      <td>1.0</td>\n",
       "    </tr>\n",
       "    <tr>\n",
       "      <th>6</th>\n",
       "      <td>Antigua and Barbuda</td>\n",
       "      <td>0.44</td>\n",
       "      <td>0.090</td>\n",
       "      <td>204.5</td>\n",
       "      <td>13342.0</td>\n",
       "      <td>75.4</td>\n",
       "      <td>16.6</td>\n",
       "      <td>NaN</td>\n",
       "      <td>NaN</td>\n",
       "      <td>14.67</td>\n",
       "      <td>...</td>\n",
       "      <td>13.1</td>\n",
       "      <td>16.5</td>\n",
       "      <td>6.1</td>\n",
       "      <td>7.1</td>\n",
       "      <td>75.8</td>\n",
       "      <td>NaN</td>\n",
       "      <td>NaN</td>\n",
       "      <td>NaN</td>\n",
       "      <td>NaN</td>\n",
       "      <td>NaN</td>\n",
       "    </tr>\n",
       "    <tr>\n",
       "      <th>7</th>\n",
       "      <td>Argentina</td>\n",
       "      <td>2736.69</td>\n",
       "      <td>41.446</td>\n",
       "      <td>15.1</td>\n",
       "      <td>14715.0</td>\n",
       "      <td>8.5</td>\n",
       "      <td>16.9</td>\n",
       "      <td>1.46</td>\n",
       "      <td>NaN</td>\n",
       "      <td>31.76</td>\n",
       "      <td>...</td>\n",
       "      <td>5.7</td>\n",
       "      <td>16.8</td>\n",
       "      <td>7.7</td>\n",
       "      <td>10.9</td>\n",
       "      <td>76.2</td>\n",
       "      <td>55.1</td>\n",
       "      <td>7.2</td>\n",
       "      <td>1967.0</td>\n",
       "      <td>2967.0</td>\n",
       "      <td>2.0</td>\n",
       "    </tr>\n",
       "    <tr>\n",
       "      <th>8</th>\n",
       "      <td>Armenia</td>\n",
       "      <td>28.47</td>\n",
       "      <td>2.977</td>\n",
       "      <td>104.6</td>\n",
       "      <td>3505.0</td>\n",
       "      <td>37.0</td>\n",
       "      <td>13.9</td>\n",
       "      <td>1.25</td>\n",
       "      <td>16.78</td>\n",
       "      <td>7.85</td>\n",
       "      <td>...</td>\n",
       "      <td>2.6</td>\n",
       "      <td>13.7</td>\n",
       "      <td>8.7</td>\n",
       "      <td>10.3</td>\n",
       "      <td>74.5</td>\n",
       "      <td>58.4</td>\n",
       "      <td>NaN</td>\n",
       "      <td>916.0</td>\n",
       "      <td>1755.0</td>\n",
       "      <td>1.0</td>\n",
       "    </tr>\n",
       "    <tr>\n",
       "      <th>9</th>\n",
       "      <td>Aruba</td>\n",
       "      <td>0.18</td>\n",
       "      <td>0.103</td>\n",
       "      <td>572.2</td>\n",
       "      <td>NaN</td>\n",
       "      <td>57.9</td>\n",
       "      <td>10.4</td>\n",
       "      <td>NaN</td>\n",
       "      <td>NaN</td>\n",
       "      <td>NaN</td>\n",
       "      <td>...</td>\n",
       "      <td>13.0</td>\n",
       "      <td>10.3</td>\n",
       "      <td>8.4</td>\n",
       "      <td>11.3</td>\n",
       "      <td>75.3</td>\n",
       "      <td>NaN</td>\n",
       "      <td>NaN</td>\n",
       "      <td>NaN</td>\n",
       "      <td>NaN</td>\n",
       "      <td>NaN</td>\n",
       "    </tr>\n",
       "  </tbody>\n",
       "</table>\n",
       "<p>10 rows × 25 columns</p>\n",
       "</div>"
      ],
      "text/plain": [
       "               Country  LandArea  Population  Density      GDP  Rural   CO2  \\\n",
       "0          Afghanistan    652.86      30.552     46.8    665.0   74.1  35.3   \n",
       "1              Albania     27.40       2.897    105.7   4460.0   44.6  12.8   \n",
       "2              Algeria   2381.74      39.208     16.5   5361.0   30.5  24.6   \n",
       "3       American Samoa      0.20       0.055    275.0      NaN   12.7   NaN   \n",
       "4              Andorra      0.47       0.079    168.1      NaN   13.8   9.5   \n",
       "5               Angola   1246.70      21.472     17.2   5783.0   57.5  44.8   \n",
       "6  Antigua and Barbuda      0.44       0.090    204.5  13342.0   75.4  16.6   \n",
       "7            Argentina   2736.69      41.446     15.1  14715.0    8.5  16.9   \n",
       "8              Armenia     28.47       2.977    104.6   3505.0   37.0  13.9   \n",
       "9                Aruba      0.18       0.103    572.2      NaN   57.9  10.4   \n",
       "\n",
       "   PumpPrice  Military  Health  ...  Diabetes  BirthRate  DeathRate  \\\n",
       "0       1.28      8.65    7.07  ...       8.1       34.1        7.8   \n",
       "1       1.81       NaN    9.85  ...       2.6       12.9        6.9   \n",
       "2       0.29       NaN    9.43  ...       7.3       24.3        5.9   \n",
       "3        NaN       NaN     NaN  ...       NaN        NaN        NaN   \n",
       "4       1.67       NaN   23.14  ...       5.4        NaN        NaN   \n",
       "5       0.63     13.81    7.74  ...       2.6       44.1       13.9   \n",
       "6        NaN       NaN   14.67  ...      13.1       16.5        6.1   \n",
       "7       1.46       NaN   31.76  ...       5.7       16.8        7.7   \n",
       "8       1.25     16.78    7.85  ...       2.6       13.7        8.7   \n",
       "9        NaN       NaN     NaN  ...      13.0       10.3        8.4   \n",
       "\n",
       "   ElderlyPop  LifeExpectancy  FemaleLabor  Unemployment  EnergyUse  \\\n",
       "0         2.3            60.9         16.2           NaN        NaN   \n",
       "1        10.7            77.5         51.7          13.4      748.0   \n",
       "2         4.6            71.0         16.2          11.0     1108.0   \n",
       "3         NaN             NaN          NaN           NaN        NaN   \n",
       "4         NaN             NaN          NaN           NaN        NaN   \n",
       "5         2.4            51.9         64.5           NaN      673.0   \n",
       "6         7.1            75.8          NaN           NaN        NaN   \n",
       "7        10.9            76.2         55.1           7.2     1967.0   \n",
       "8        10.3            74.5         58.4           NaN      916.0   \n",
       "9        11.3            75.3          NaN           NaN        NaN   \n",
       "\n",
       "   Electricity  Developed  \n",
       "0          NaN        NaN  \n",
       "1       2195.0        1.0  \n",
       "2       1091.0        1.0  \n",
       "3          NaN        NaN  \n",
       "4          NaN        NaN  \n",
       "5        248.0        1.0  \n",
       "6          NaN        NaN  \n",
       "7       2967.0        2.0  \n",
       "8       1755.0        1.0  \n",
       "9          NaN        NaN  \n",
       "\n",
       "[10 rows x 25 columns]"
      ]
     },
     "execution_count": 4,
     "metadata": {},
     "output_type": "execute_result"
    }
   ],
   "source": [
    "ac.head(10)"
   ]
  },
  {
   "attachments": {},
   "cell_type": "markdown",
   "metadata": {},
   "source": [
    "# Get some basic info on ac"
   ]
  },
  {
   "cell_type": "code",
   "execution_count": 5,
   "metadata": {},
   "outputs": [
    {
     "name": "stdout",
     "output_type": "stream",
     "text": [
      "<class 'pandas.core.frame.DataFrame'>\n",
      "RangeIndex: 217 entries, 0 to 216\n",
      "Data columns (total 25 columns):\n",
      " #   Column          Non-Null Count  Dtype  \n",
      "---  ------          --------------  -----  \n",
      " 0   Country         215 non-null    object \n",
      " 1   LandArea        215 non-null    float64\n",
      " 2   Population      215 non-null    float64\n",
      " 3   Density         215 non-null    float64\n",
      " 4   GDP             186 non-null    float64\n",
      " 5   Rural           215 non-null    float64\n",
      " 6   CO2             205 non-null    float64\n",
      " 7   PumpPrice       166 non-null    float64\n",
      " 8   Military        95 non-null     float64\n",
      " 9   Health          187 non-null    float64\n",
      " 10  ArmedForces     168 non-null    float64\n",
      " 11  Internet        203 non-null    float64\n",
      " 12  Cell            203 non-null    float64\n",
      " 13  HIV             117 non-null    float64\n",
      " 14  Hunger          115 non-null    float64\n",
      " 15  Diabetes        208 non-null    float64\n",
      " 16  BirthRate       202 non-null    float64\n",
      " 17  DeathRate       203 non-null    float64\n",
      " 18  ElderlyPop      195 non-null    float64\n",
      " 19  LifeExpectancy  199 non-null    float64\n",
      " 20  FemaleLabor     186 non-null    float64\n",
      " 21  Unemployment    108 non-null    float64\n",
      " 22  EnergyUse       136 non-null    float64\n",
      " 23  Electricity     134 non-null    float64\n",
      " 24  Developed       134 non-null    float64\n",
      "dtypes: float64(24), object(1)\n",
      "memory usage: 42.5+ KB\n"
     ]
    }
   ],
   "source": [
    "ac.info()"
   ]
  },
  {
   "attachments": {},
   "cell_type": "markdown",
   "metadata": {},
   "source": [
    "# Get some sttatistical info on ac"
   ]
  },
  {
   "cell_type": "code",
   "execution_count": 6,
   "metadata": {},
   "outputs": [
    {
     "data": {
      "text/html": [
       "<div>\n",
       "<style scoped>\n",
       "    .dataframe tbody tr th:only-of-type {\n",
       "        vertical-align: middle;\n",
       "    }\n",
       "\n",
       "    .dataframe tbody tr th {\n",
       "        vertical-align: top;\n",
       "    }\n",
       "\n",
       "    .dataframe thead th {\n",
       "        text-align: right;\n",
       "    }\n",
       "</style>\n",
       "<table border=\"1\" class=\"dataframe\">\n",
       "  <thead>\n",
       "    <tr style=\"text-align: right;\">\n",
       "      <th></th>\n",
       "      <th>LandArea</th>\n",
       "      <th>Population</th>\n",
       "      <th>Density</th>\n",
       "      <th>GDP</th>\n",
       "      <th>Rural</th>\n",
       "      <th>CO2</th>\n",
       "      <th>PumpPrice</th>\n",
       "      <th>Military</th>\n",
       "      <th>Health</th>\n",
       "      <th>ArmedForces</th>\n",
       "      <th>...</th>\n",
       "      <th>Diabetes</th>\n",
       "      <th>BirthRate</th>\n",
       "      <th>DeathRate</th>\n",
       "      <th>ElderlyPop</th>\n",
       "      <th>LifeExpectancy</th>\n",
       "      <th>FemaleLabor</th>\n",
       "      <th>Unemployment</th>\n",
       "      <th>EnergyUse</th>\n",
       "      <th>Electricity</th>\n",
       "      <th>Developed</th>\n",
       "    </tr>\n",
       "  </thead>\n",
       "  <tbody>\n",
       "    <tr>\n",
       "      <th>count</th>\n",
       "      <td>215.000000</td>\n",
       "      <td>215.000000</td>\n",
       "      <td>215.000000</td>\n",
       "      <td>186.000000</td>\n",
       "      <td>215.000000</td>\n",
       "      <td>205.000000</td>\n",
       "      <td>166.000000</td>\n",
       "      <td>95.000000</td>\n",
       "      <td>187.000000</td>\n",
       "      <td>168.000000</td>\n",
       "      <td>...</td>\n",
       "      <td>208.000000</td>\n",
       "      <td>202.000000</td>\n",
       "      <td>203.000000</td>\n",
       "      <td>195.000000</td>\n",
       "      <td>199.000000</td>\n",
       "      <td>186.000000</td>\n",
       "      <td>108.000000</td>\n",
       "      <td>136.000000</td>\n",
       "      <td>134.000000</td>\n",
       "      <td>134.000000</td>\n",
       "    </tr>\n",
       "    <tr>\n",
       "      <th>mean</th>\n",
       "      <td>604.660335</td>\n",
       "      <td>33.042014</td>\n",
       "      <td>408.243721</td>\n",
       "      <td>14333.672043</td>\n",
       "      <td>41.228372</td>\n",
       "      <td>21.402927</td>\n",
       "      <td>1.389036</td>\n",
       "      <td>7.272105</td>\n",
       "      <td>11.965829</td>\n",
       "      <td>160.116786</td>\n",
       "      <td>...</td>\n",
       "      <td>8.723558</td>\n",
       "      <td>21.250990</td>\n",
       "      <td>8.072906</td>\n",
       "      <td>7.976923</td>\n",
       "      <td>70.841709</td>\n",
       "      <td>58.076882</td>\n",
       "      <td>9.687963</td>\n",
       "      <td>2580.044118</td>\n",
       "      <td>4293.753731</td>\n",
       "      <td>1.813433</td>\n",
       "    </tr>\n",
       "    <tr>\n",
       "      <th>std</th>\n",
       "      <td>1759.001021</td>\n",
       "      <td>130.424120</td>\n",
       "      <td>1943.951398</td>\n",
       "      <td>20501.708730</td>\n",
       "      <td>24.478096</td>\n",
       "      <td>10.565482</td>\n",
       "      <td>0.526717</td>\n",
       "      <td>6.332913</td>\n",
       "      <td>5.042639</td>\n",
       "      <td>380.118097</td>\n",
       "      <td>...</td>\n",
       "      <td>5.488184</td>\n",
       "      <td>10.513622</td>\n",
       "      <td>3.133041</td>\n",
       "      <td>5.512164</td>\n",
       "      <td>9.096521</td>\n",
       "      <td>17.079121</td>\n",
       "      <td>6.681859</td>\n",
       "      <td>3058.564485</td>\n",
       "      <td>5910.239849</td>\n",
       "      <td>0.877179</td>\n",
       "    </tr>\n",
       "    <tr>\n",
       "      <th>min</th>\n",
       "      <td>0.002000</td>\n",
       "      <td>0.010000</td>\n",
       "      <td>0.100000</td>\n",
       "      <td>226.000000</td>\n",
       "      <td>0.000000</td>\n",
       "      <td>8.200000</td>\n",
       "      <td>0.020000</td>\n",
       "      <td>0.000000</td>\n",
       "      <td>1.500000</td>\n",
       "      <td>0.120000</td>\n",
       "      <td>...</td>\n",
       "      <td>1.500000</td>\n",
       "      <td>7.900000</td>\n",
       "      <td>1.000000</td>\n",
       "      <td>0.400000</td>\n",
       "      <td>45.600000</td>\n",
       "      <td>14.300000</td>\n",
       "      <td>0.200000</td>\n",
       "      <td>129.000000</td>\n",
       "      <td>32.000000</td>\n",
       "      <td>1.000000</td>\n",
       "    </tr>\n",
       "    <tr>\n",
       "      <th>25%</th>\n",
       "      <td>10.858500</td>\n",
       "      <td>0.836500</td>\n",
       "      <td>34.900000</td>\n",
       "      <td>1846.500000</td>\n",
       "      <td>21.550000</td>\n",
       "      <td>12.200000</td>\n",
       "      <td>1.112500</td>\n",
       "      <td>3.305000</td>\n",
       "      <td>8.135000</td>\n",
       "      <td>10.925000</td>\n",
       "      <td>...</td>\n",
       "      <td>5.375000</td>\n",
       "      <td>12.225000</td>\n",
       "      <td>5.950000</td>\n",
       "      <td>3.400000</td>\n",
       "      <td>65.300000</td>\n",
       "      <td>49.725000</td>\n",
       "      <td>5.175000</td>\n",
       "      <td>694.000000</td>\n",
       "      <td>845.750000</td>\n",
       "      <td>1.000000</td>\n",
       "    </tr>\n",
       "    <tr>\n",
       "      <th>50%</th>\n",
       "      <td>94.280000</td>\n",
       "      <td>6.202000</td>\n",
       "      <td>83.500000</td>\n",
       "      <td>5736.000000</td>\n",
       "      <td>41.600000</td>\n",
       "      <td>19.200000</td>\n",
       "      <td>1.410000</td>\n",
       "      <td>5.310000</td>\n",
       "      <td>11.870000</td>\n",
       "      <td>30.700000</td>\n",
       "      <td>...</td>\n",
       "      <td>7.200000</td>\n",
       "      <td>19.350000</td>\n",
       "      <td>7.500000</td>\n",
       "      <td>5.500000</td>\n",
       "      <td>73.800000</td>\n",
       "      <td>60.350000</td>\n",
       "      <td>7.800000</td>\n",
       "      <td>1511.500000</td>\n",
       "      <td>2644.000000</td>\n",
       "      <td>2.000000</td>\n",
       "    </tr>\n",
       "    <tr>\n",
       "      <th>75%</th>\n",
       "      <td>440.310000</td>\n",
       "      <td>21.863000</td>\n",
       "      <td>204.750000</td>\n",
       "      <td>16072.500000</td>\n",
       "      <td>61.200000</td>\n",
       "      <td>27.700000</td>\n",
       "      <td>1.767500</td>\n",
       "      <td>9.375000</td>\n",
       "      <td>14.710000</td>\n",
       "      <td>152.912500</td>\n",
       "      <td>...</td>\n",
       "      <td>10.550000</td>\n",
       "      <td>27.500000</td>\n",
       "      <td>9.700000</td>\n",
       "      <td>12.300000</td>\n",
       "      <td>77.250000</td>\n",
       "      <td>70.175000</td>\n",
       "      <td>13.400000</td>\n",
       "      <td>3137.250000</td>\n",
       "      <td>5735.500000</td>\n",
       "      <td>3.000000</td>\n",
       "    </tr>\n",
       "    <tr>\n",
       "      <th>max</th>\n",
       "      <td>16376.870000</td>\n",
       "      <td>1357.380000</td>\n",
       "      <td>19000.000000</td>\n",
       "      <td>110665.000000</td>\n",
       "      <td>91.300000</td>\n",
       "      <td>49.800000</td>\n",
       "      <td>2.540000</td>\n",
       "      <td>44.300000</td>\n",
       "      <td>31.760000</td>\n",
       "      <td>2993.000000</td>\n",
       "      <td>...</td>\n",
       "      <td>37.100000</td>\n",
       "      <td>49.700000</td>\n",
       "      <td>17.200000</td>\n",
       "      <td>25.100000</td>\n",
       "      <td>83.800000</td>\n",
       "      <td>89.900000</td>\n",
       "      <td>31.000000</td>\n",
       "      <td>17964.000000</td>\n",
       "      <td>52374.000000</td>\n",
       "      <td>3.000000</td>\n",
       "    </tr>\n",
       "  </tbody>\n",
       "</table>\n",
       "<p>8 rows × 24 columns</p>\n",
       "</div>"
      ],
      "text/plain": [
       "           LandArea   Population       Density            GDP       Rural  \\\n",
       "count    215.000000   215.000000    215.000000     186.000000  215.000000   \n",
       "mean     604.660335    33.042014    408.243721   14333.672043   41.228372   \n",
       "std     1759.001021   130.424120   1943.951398   20501.708730   24.478096   \n",
       "min        0.002000     0.010000      0.100000     226.000000    0.000000   \n",
       "25%       10.858500     0.836500     34.900000    1846.500000   21.550000   \n",
       "50%       94.280000     6.202000     83.500000    5736.000000   41.600000   \n",
       "75%      440.310000    21.863000    204.750000   16072.500000   61.200000   \n",
       "max    16376.870000  1357.380000  19000.000000  110665.000000   91.300000   \n",
       "\n",
       "              CO2   PumpPrice   Military      Health  ArmedForces  ...  \\\n",
       "count  205.000000  166.000000  95.000000  187.000000   168.000000  ...   \n",
       "mean    21.402927    1.389036   7.272105   11.965829   160.116786  ...   \n",
       "std     10.565482    0.526717   6.332913    5.042639   380.118097  ...   \n",
       "min      8.200000    0.020000   0.000000    1.500000     0.120000  ...   \n",
       "25%     12.200000    1.112500   3.305000    8.135000    10.925000  ...   \n",
       "50%     19.200000    1.410000   5.310000   11.870000    30.700000  ...   \n",
       "75%     27.700000    1.767500   9.375000   14.710000   152.912500  ...   \n",
       "max     49.800000    2.540000  44.300000   31.760000  2993.000000  ...   \n",
       "\n",
       "         Diabetes   BirthRate   DeathRate  ElderlyPop  LifeExpectancy  \\\n",
       "count  208.000000  202.000000  203.000000  195.000000      199.000000   \n",
       "mean     8.723558   21.250990    8.072906    7.976923       70.841709   \n",
       "std      5.488184   10.513622    3.133041    5.512164        9.096521   \n",
       "min      1.500000    7.900000    1.000000    0.400000       45.600000   \n",
       "25%      5.375000   12.225000    5.950000    3.400000       65.300000   \n",
       "50%      7.200000   19.350000    7.500000    5.500000       73.800000   \n",
       "75%     10.550000   27.500000    9.700000   12.300000       77.250000   \n",
       "max     37.100000   49.700000   17.200000   25.100000       83.800000   \n",
       "\n",
       "       FemaleLabor  Unemployment     EnergyUse   Electricity   Developed  \n",
       "count   186.000000    108.000000    136.000000    134.000000  134.000000  \n",
       "mean     58.076882      9.687963   2580.044118   4293.753731    1.813433  \n",
       "std      17.079121      6.681859   3058.564485   5910.239849    0.877179  \n",
       "min      14.300000      0.200000    129.000000     32.000000    1.000000  \n",
       "25%      49.725000      5.175000    694.000000    845.750000    1.000000  \n",
       "50%      60.350000      7.800000   1511.500000   2644.000000    2.000000  \n",
       "75%      70.175000     13.400000   3137.250000   5735.500000    3.000000  \n",
       "max      89.900000     31.000000  17964.000000  52374.000000    3.000000  \n",
       "\n",
       "[8 rows x 24 columns]"
      ]
     },
     "execution_count": 6,
     "metadata": {},
     "output_type": "execute_result"
    }
   ],
   "source": [
    "ac.describe()"
   ]
  },
  {
   "attachments": {},
   "cell_type": "markdown",
   "metadata": {},
   "source": [
    "# Get the average GDP"
   ]
  },
  {
   "cell_type": "code",
   "execution_count": 7,
   "metadata": {},
   "outputs": [
    {
     "data": {
      "text/plain": [
       "14333.672043010753"
      ]
     },
     "execution_count": 7,
     "metadata": {},
     "output_type": "execute_result"
    }
   ],
   "source": [
    "ac['GDP'].mean()"
   ]
  },
  {
   "attachments": {},
   "cell_type": "markdown",
   "metadata": {},
   "source": [
    "# Group (groupby) countries with GDP and populations with the sum() function"
   ]
  },
  {
   "cell_type": "code",
   "execution_count": 9,
   "metadata": {},
   "outputs": [
    {
     "data": {
      "text/html": [
       "<div>\n",
       "<style scoped>\n",
       "    .dataframe tbody tr th:only-of-type {\n",
       "        vertical-align: middle;\n",
       "    }\n",
       "\n",
       "    .dataframe tbody tr th {\n",
       "        vertical-align: top;\n",
       "    }\n",
       "\n",
       "    .dataframe thead th {\n",
       "        text-align: right;\n",
       "    }\n",
       "</style>\n",
       "<table border=\"1\" class=\"dataframe\">\n",
       "  <thead>\n",
       "    <tr style=\"text-align: right;\">\n",
       "      <th></th>\n",
       "      <th>GDP</th>\n",
       "      <th>Population</th>\n",
       "    </tr>\n",
       "    <tr>\n",
       "      <th>Country</th>\n",
       "      <th></th>\n",
       "      <th></th>\n",
       "    </tr>\n",
       "  </thead>\n",
       "  <tbody>\n",
       "    <tr>\n",
       "      <th>Afghanistan</th>\n",
       "      <td>665.0</td>\n",
       "      <td>30.552</td>\n",
       "    </tr>\n",
       "    <tr>\n",
       "      <th>Albania</th>\n",
       "      <td>4460.0</td>\n",
       "      <td>2.897</td>\n",
       "    </tr>\n",
       "    <tr>\n",
       "      <th>Algeria</th>\n",
       "      <td>5361.0</td>\n",
       "      <td>39.208</td>\n",
       "    </tr>\n",
       "    <tr>\n",
       "      <th>American Samoa</th>\n",
       "      <td>0.0</td>\n",
       "      <td>0.055</td>\n",
       "    </tr>\n",
       "    <tr>\n",
       "      <th>Andorra</th>\n",
       "      <td>0.0</td>\n",
       "      <td>0.079</td>\n",
       "    </tr>\n",
       "    <tr>\n",
       "      <th>...</th>\n",
       "      <td>...</td>\n",
       "      <td>...</td>\n",
       "    </tr>\n",
       "    <tr>\n",
       "      <th>Virgin Islands (U.S.)</th>\n",
       "      <td>0.0</td>\n",
       "      <td>0.105</td>\n",
       "    </tr>\n",
       "    <tr>\n",
       "      <th>West Bank and Gaza</th>\n",
       "      <td>0.0</td>\n",
       "      <td>4.170</td>\n",
       "    </tr>\n",
       "    <tr>\n",
       "      <th>Yemen, Rep.</th>\n",
       "      <td>1473.0</td>\n",
       "      <td>24.407</td>\n",
       "    </tr>\n",
       "    <tr>\n",
       "      <th>Zambia</th>\n",
       "      <td>1845.0</td>\n",
       "      <td>14.539</td>\n",
       "    </tr>\n",
       "    <tr>\n",
       "      <th>Zimbabwe</th>\n",
       "      <td>953.0</td>\n",
       "      <td>14.150</td>\n",
       "    </tr>\n",
       "  </tbody>\n",
       "</table>\n",
       "<p>215 rows × 2 columns</p>\n",
       "</div>"
      ],
      "text/plain": [
       "                          GDP  Population\n",
       "Country                                  \n",
       "Afghanistan             665.0      30.552\n",
       "Albania                4460.0       2.897\n",
       "Algeria                5361.0      39.208\n",
       "American Samoa            0.0       0.055\n",
       "Andorra                   0.0       0.079\n",
       "...                       ...         ...\n",
       "Virgin Islands (U.S.)     0.0       0.105\n",
       "West Bank and Gaza        0.0       4.170\n",
       "Yemen, Rep.            1473.0      24.407\n",
       "Zambia                 1845.0      14.539\n",
       "Zimbabwe                953.0      14.150\n",
       "\n",
       "[215 rows x 2 columns]"
      ]
     },
     "execution_count": 9,
     "metadata": {},
     "output_type": "execute_result"
    }
   ],
   "source": [
    "groupAC = ac.groupby('Country')[['GDP', 'Population']].sum()\n",
    "groupAC"
   ]
  }
 ],
 "metadata": {
  "kernelspec": {
   "display_name": "Python 3",
   "language": "python",
   "name": "python3"
  },
  "language_info": {
   "codemirror_mode": {
    "name": "ipython",
    "version": 3
   },
   "file_extension": ".py",
   "mimetype": "text/x-python",
   "name": "python",
   "nbconvert_exporter": "python",
   "pygments_lexer": "ipython3",
   "version": "3.11.1"
  },
  "orig_nbformat": 4,
  "vscode": {
   "interpreter": {
    "hash": "8b8edaa195e148f815789564e9a10f57d8b792ac9e1a5daafce5fbae42bebd0e"
   }
  }
 },
 "nbformat": 4,
 "nbformat_minor": 2
}
